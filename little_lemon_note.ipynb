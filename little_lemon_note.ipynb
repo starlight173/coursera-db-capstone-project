{
 "cells": [
  {
   "cell_type": "code",
   "execution_count": 6,
   "metadata": {},
   "outputs": [],
   "source": [
    "# Import the MySQL Connector/Python\n",
    "import mysql.connector as connector "
   ]
  },
  {
   "cell_type": "code",
   "execution_count": 7,
   "metadata": {},
   "outputs": [],
   "source": [
    "connection=connector.connect(user=\"root\", password=\"123123\")\n",
    "cursor = connection.cursor()\n",
    "cursor.execute(\"USE LittleLemonDB\")"
   ]
  },
  {
   "cell_type": "code",
   "execution_count": 5,
   "metadata": {},
   "outputs": [],
   "source": [
    "# AddBooking Store Procedure\n",
    "cursor.callproc(\"AddBooking\", [99, \"2022-12-10\", 99, 99])\n",
    "connection.commit()\n",
    "\n",
    "results = cursor.fetchall()\n",
    "for result in results:\n",
    "    print(result)"
   ]
  },
  {
   "cell_type": "code",
   "execution_count": 8,
   "metadata": {},
   "outputs": [],
   "source": [
    "# UpdateBooking Store Procedure\n",
    "cursor.callproc(\"UpdateBooking\", [99, \"2022-1-10\"])\n",
    "connection.commit()\n",
    "\n",
    "results = cursor.fetchall()\n",
    "for result in results:\n",
    "    print(result)"
   ]
  },
  {
   "cell_type": "code",
   "execution_count": 9,
   "metadata": {},
   "outputs": [],
   "source": [
    "# Cancel Booking Store Procedure\n",
    "cursor.callproc(\"CancelBooking\", [99])\n",
    "connection.commit()\n",
    "\n",
    "results = cursor.fetchall()\n",
    "for result in results:\n",
    "    print(result)"
   ]
  },
  {
   "cell_type": "code",
   "execution_count": null,
   "metadata": {},
   "outputs": [],
   "source": []
  }
 ],
 "metadata": {
  "kernelspec": {
   "display_name": "Python 3",
   "language": "python",
   "name": "python3"
  },
  "language_info": {
   "codemirror_mode": {
    "name": "ipython",
    "version": 3
   },
   "file_extension": ".py",
   "mimetype": "text/x-python",
   "name": "python",
   "nbconvert_exporter": "python",
   "pygments_lexer": "ipython3",
   "version": "3.12.2"
  }
 },
 "nbformat": 4,
 "nbformat_minor": 2
}
